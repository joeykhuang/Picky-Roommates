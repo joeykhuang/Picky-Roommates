{
 "cells": [
  {
   "cell_type": "code",
   "execution_count": 1,
   "metadata": {},
   "outputs": [
    {
     "name": "stderr",
     "output_type": "stream",
     "text": [
      "/Users/joeykhuang/anaconda3/lib/python3.11/site-packages/pandas/core/arrays/masked.py:60: UserWarning: Pandas requires version '1.3.6' or newer of 'bottleneck' (version '1.3.5' currently installed).\n",
      "  from pandas.core import (\n"
     ]
    },
    {
     "name": "stdout",
     "output_type": "stream",
     "text": [
      "Set parameter Username\n",
      "Set parameter WLSAccessID\n",
      "Set parameter WLSSecret\n",
      "Set parameter LicenseID to value 2503416\n",
      "Academic license 2503416 - for non-commercial use only - registered to jo___@college.harvard.edu\n"
     ]
    }
   ],
   "source": [
    "import numpy as np\n",
    "import pandas as pd\n",
    "import matplotlib.pyplot as plt\n",
    "from tqdm import trange\n",
    "from simulate import *\n",
    "from mwis import *\n",
    "from greedy import *\n",
    "from ef import *\n"
   ]
  },
  {
   "cell_type": "markdown",
   "metadata": {},
   "source": [
    "### Greedy and Greedy with Bipartite Matching"
   ]
  },
  {
   "cell_type": "code",
   "execution_count": 4,
   "metadata": {},
   "outputs": [
    {
     "name": "stderr",
     "output_type": "stream",
     "text": [
      "100%|██████████| 50/50 [05:44<00:00,  6.89s/it]\n"
     ]
    }
   ],
   "source": [
    "\n",
    "num_trials = 10\n",
    "num_simulations = 200\n",
    "sim_df = pd.DataFrame(columns=[\"m\", \"n\", \"trial\", \"greedy_ratio\", \"greedy_match_ratio\"])\n",
    "for i in trange(num_trials):\n",
    "    for n in range(2, 5):\n",
    "        for m in range(n, 2 * n + 1):\n",
    "            greedy_scores, greedy_match_scores, optimal_scores = simulate(m, n, num_simulations, 0)\n",
    "            sim_df.loc[len(sim_df)] = {'m': m, 'n': n, 'trial': i, 'greedy_ratio': np.mean(np.divide(greedy_scores, optimal_scores)), 'greedy_match_ratio': np.mean(np.divide(greedy_match_scores, optimal_scores))}\n",
    "\n",
    "m, n = 4, 3\n",
    "num_trials = 50\n",
    "num_simulations = 200\n",
    "sim_df_alpha = pd.DataFrame(columns=[\"alpha\", \"trial\", \"greedy_ratio\", \"greedy_match_ratio\"])\n",
    "for i in trange(num_trials):\n",
    "    for alpha in np.arange(0, 1.1, 0.1):\n",
    "        greedy_scores, greedy_match_scores, optimal_scores = simulate(m, n, num_simulations, alpha)\n",
    "        sim_df_alpha.loc[len(sim_df_alpha)] = {'alpha': alpha, 'trial': i, 'greedy_ratio': np.mean(np.divide(greedy_scores, optimal_scores)), 'greedy_match_ratio': np.mean(np.divide(greedy_match_scores, optimal_scores))}\n",
    "\n",
    "sim_df.to_csv(\"roommate_sim_greedy.csv\")\n",
    "sim_df_alpha.to_csv(\"roommate_sim_greedy_with_alpha.csv\")\n",
    "\n"
   ]
  },
  {
   "cell_type": "markdown",
   "metadata": {},
   "source": [
    "### MWIS with m = 2n"
   ]
  },
  {
   "cell_type": "code",
   "execution_count": null,
   "metadata": {},
   "outputs": [],
   "source": [
    "num_trials = 10\n",
    "num_simulations = 200\n",
    "sim_df_mwis = pd.DataFrame(columns=[\"n\", \"trial\", \"greedy\", \"greedy_match\", \"mwis\", \"optimal\"])\n",
    "for n in range(2, 8):\n",
    "    for i in trange(num_trials):\n",
    "        m = 2 * n\n",
    "        if n <= 5:\n",
    "            greedy_scores, greedy_match_scores, mwis_scores, optimal_scores = simulate_mwis(m, n, num_simulations)\n",
    "        else:\n",
    "            greedy_scores, greedy_match_scores, mwis_scores, optimal_scores = simulate_mwis(m, n, num_simulations, do_optimal=False)\n",
    "            optimal_scores = 0\n",
    "\n",
    "        sim_df_mwis.loc[len(sim_df_mwis)] = {'n': n, 'trial': i, 'greedy': np.mean(greedy_scores), 'greedy_match': np.mean(greedy_match_scores), 'mwis': np.mean(mwis_scores), 'optimal': np.mean(optimal_scores)}\n",
    "\n",
    "sim_df_mwis.to_csv('roommate_sim_mwis.csv')\n",
    "\n",
    "m, n, num_simulations = 6, 3, 1000\n",
    "greedy_scores, greedy_match_scores, mwis_scores, optimal_scores = simulate_mwis(m, n, num_simulations)\n",
    "\n",
    "sort_idx = np.argsort(np.divide(greedy_match_scores, optimal_scores))\n",
    "#plt.plot(np.divide(greedy_scores, optimal_scores)[sort_idx])\n",
    "plt.plot(np.divide(greedy_match_scores, optimal_scores)[sort_idx])\n",
    "plt.plot(np.divide(mwis_scores, optimal_scores)[sort_idx])\n",
    "plt.legend([\"Greedy with matching\", \"MWIS\"])\n",
    "\n",
    "match_divide = np.divide(greedy_match_scores, optimal_scores)[sort_idx]\n",
    "mwis_divide = np.divide(mwis_scores, optimal_scores)[sort_idx]\n",
    "pd.concat([pd.DataFrame(match_divide), pd.DataFrame(mwis_divide)]).to_csv('mwis_indiv.csv')"
   ]
  },
  {
   "cell_type": "markdown",
   "metadata": {},
   "source": [
    "### MWIS with m < 2n"
   ]
  },
  {
   "cell_type": "code",
   "execution_count": 8,
   "metadata": {},
   "outputs": [
    {
     "name": "stderr",
     "output_type": "stream",
     "text": [
      "  0%|          | 0/10 [00:00<?, ?it/s]"
     ]
    },
    {
     "name": "stderr",
     "output_type": "stream",
     "text": [
      "100%|██████████| 10/10 [10:29<00:00, 62.94s/it]\n"
     ]
    }
   ],
   "source": [
    "num_trials = 10\n",
    "num_simulations = 200\n",
    "#sim_scores = {}\n",
    "sim_df_ghosts = pd.DataFrame(columns=[\"m\", \"n\", \"trial\", \"greedy_ratio\", \"greedy_match_ratio\", \"mwis_ghost_ratio\"])\n",
    "for i in trange(num_trials):\n",
    "    for n in range(2, 5):\n",
    "        for m in range(n, 2 * n + 1):\n",
    "            greedy_scores, greedy_match_scores, mwis_scores, optimal_scores = simulate_mwis_with_ghosts(m, n, num_simulations, 0.5)\n",
    "\n",
    "            sim_df_ghosts.loc[len(sim_df_ghosts)] = {'m': m, 'n': n, 'trial': i, 'greedy_ratio': np.mean(np.divide(greedy_scores, optimal_scores)), 'greedy_match_ratio': np.mean(np.divide(greedy_match_scores, optimal_scores)), 'mwis_ghost_ratio': np.mean(np.divide(mwis_scores, optimal_scores))}\n",
    "\n",
    "sim_df_ghosts.to_csv(\"sim_df_ghosts.csv\")"
   ]
  },
  {
   "cell_type": "markdown",
   "metadata": {},
   "source": [
    "### MWIS runtime simulation"
   ]
  },
  {
   "cell_type": "code",
   "execution_count": 2,
   "metadata": {},
   "outputs": [
    {
     "name": "stderr",
     "output_type": "stream",
     "text": [
      "100%|██████████| 10/10 [03:37<00:00, 21.76s/it]\n"
     ]
    },
    {
     "data": {
      "image/png": "[encoded data removed]",
      "text/plain": [
       "<Figure size 640x480 with 1 Axes>"
      ]
     },
     "metadata": {},
     "output_type": "display_data"
    }
   ],
   "source": [
    "timings = runtime_sim()\n",
    "z = np.polyfit(x=np.array(range(2, 12)), y=np.array(timings), deg=3)\n",
    "p3 = np.poly1d(z)\n",
    "\n",
    "x = np.linspace(2, 11, 10)\n",
    "plt.plot(x, timings)\n",
    "plt.plot(x, p3(x))\n",
    "plt.legend([\"sim timing\", \"polyfit O(n^3)\"])\n",
    "\n",
    "pd.DataFrame(timings).to_csv(\"runtime.csv\")"
   ]
  },
  {
   "cell_type": "markdown",
   "metadata": {},
   "source": [
    "### Envy-freeness"
   ]
  },
  {
   "cell_type": "code",
   "execution_count": 2,
   "metadata": {},
   "outputs": [
    {
     "name": "stderr",
     "output_type": "stream",
     "text": [
      "  0%|          | 0/1 [00:00<?, ?it/s]"
     ]
    },
    {
     "name": "stdout",
     "output_type": "stream",
     "text": [
      "Set parameter Username\n",
      "Academic license - for non-commercial use only - expires 2025-04-15\n"
     ]
    },
    {
     "name": "stderr",
     "output_type": "stream",
     "text": [
      "100%|██████████| 1/1 [00:37<00:00, 37.60s/it]\n"
     ]
    }
   ],
   "source": [
    "\"\"\"## Envy-Freeness\"\"\"\n",
    "num_trials = 1\n",
    "num_simulations = 200\n",
    "num_found_df = pd.DataFrame(columns=[\"epsilon\", \"trial\", \"greedy_match_num_found\", \"mwis_num_found\"])\n",
    "for i in trange(num_trials):\n",
    "    for inv_epsilon in np.arange(0.1, 1.1, 0.1):\n",
    "        greedy_match_results, mwis_results, greedy_envies, mwis_envies, greedy_match_found_sol, mwis_found_sol = simulate_ef_prices(6, 3, num_simulations, inv_epsilon)\n",
    "        num_found_df.loc[len(num_found_df)] = {'epsilon': 1/inv_epsilon, 'trial': i, 'greedy_match_num_found': greedy_match_found_sol, 'mwis_num_found': mwis_found_sol}\n",
    "\n",
    "num_found_df.to_csv(\"ef_num_found.csv\")"
   ]
  },
  {
   "cell_type": "code",
   "execution_count": 3,
   "metadata": {},
   "outputs": [],
   "source": [
    "num_simulations = 2000\n",
    "greedy_match_results, mwis_results, greedy_envies, mwis_envies, greedy_match_found_sol, mwis_found_sol = simulate_ef_prices(6, 3, num_simulations, None, False)\n",
    "ns_greedy_envies = [item for row in greedy_envies for item in row]\n",
    "ns_mwis_envies = [item for row in mwis_envies for item in row]\n",
    "\n",
    "greedy_match_results, mwis_results, greedy_envies, mwis_envies, greedy_match_found_sol, mwis_found_sol = simulate_ef_prices(6, 3, num_simulations, None, True)\n",
    "s_greedy_envies = [item for row in greedy_envies for item in row]\n",
    "s_mwis_envies = [item for row in mwis_envies for item in row]\n",
    "\n",
    "pd.DataFrame.from_dict({\"no_share_greedy\": ns_greedy_envies, \"no_share_mwis\": ns_mwis_envies, \"share_greedy\": s_greedy_envies, \"share_mwis\": s_mwis_envies}, orient='index').transpose().to_csv(\"envies.csv\")\n"
   ]
  }
 ],
 "metadata": {
  "kernelspec": {
   "display_name": "Python 3 (ipykernel)",
   "language": "python",
   "name": "python3"
  },
  "language_info": {
   "codemirror_mode": {
    "name": "ipython",
    "version": 3
   },
   "file_extension": ".py",
   "mimetype": "text/x-python",
   "name": "python",
   "nbconvert_exporter": "python",
   "pygments_lexer": "ipython3",
   "version": "3.11.5"
  }
 },
 "nbformat": 4,
 "nbformat_minor": 2
}
